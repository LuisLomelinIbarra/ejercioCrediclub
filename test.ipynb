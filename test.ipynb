{
 "cells": [
  {
   "cell_type": "code",
   "execution_count": 1,
   "metadata": {},
   "outputs": [],
   "source": [
    "# Importar librerías\n",
    "import sqlite3\n",
    "import pandas as pd\n"
   ]
  },
  {
   "cell_type": "code",
   "execution_count": 2,
   "metadata": {},
   "outputs": [],
   "source": [
    "# Generar base de datos\n",
    "conexionDB = sqlite3.connect(\"montosRegistrados.db\")\n"
   ]
  },
  {
   "cell_type": "code",
   "execution_count": 18,
   "metadata": {},
   "outputs": [
    {
     "data": {
      "text/plain": [
       "<sqlite3.Cursor at 0x1bda48b93c0>"
      ]
     },
     "execution_count": 18,
     "metadata": {},
     "output_type": "execute_result"
    }
   ],
   "source": [
    "cursorDB = conexionDB.cursor()\n",
    "# Código para crear la primera tabla\n",
    "# Si ya se genero se puede comentar y continuar ejecutando\n",
    "\n",
    "cursorDB.execute(\"DROP TABLE montos\")\n",
    "cursorDB.execute(\"DROP TABLE errores\")\n",
    "cursorDB.execute(\"CREATE TABLE montos(fecha, cliente, monto, proveedor)\")\n",
    "cursorDB.execute(\"CREATE TABLE errores(fecha, cliente, monto, proveedor, archivo)\")\n"
   ]
  },
  {
   "cell_type": "code",
   "execution_count": 19,
   "metadata": {},
   "outputs": [],
   "source": [
    "# Leer los Exceles\n",
    "def leer_archivo_excel(nombreArchivo, colTypes=None, na_values=[\"-\"]):\n",
    "    \"\"\"\" Función que lee archivos de excel\n",
    "        Parameters:\n",
    "            nombreArchivo: El nombre del archivo a leer \n",
    "            colTypes: Un dict con los tipos de las columnas. En caso de no ser proporcionado, se asumen los tipos\n",
    "            na_values: Una lista con los valores considerados vacios\n",
    "        Returns:\n",
    "            Regresa un dataFrame con todos los renglones con valores y un dataframe con los renglones con valores faltantes\"\"\"\n",
    "    df = pd.read_excel(nombreArchivo, dtype=colTypes, na_values=na_values)\n",
    "    \n",
    "    return df.dropna(), df[df.isnull().any(axis=1)]\n"
   ]
  },
  {
   "cell_type": "code",
   "execution_count": 20,
   "metadata": {},
   "outputs": [],
   "source": [
    "def procesarArchivos(listaDeArchivos):\n",
    "    \"\"\"Procesa los archivos separando las entradas con valores validos\n",
    "        Parameters:\n",
    "        listaDeArchivos: Una lista que contiene los archivos a procesar\"\"\"\n",
    "    for archivo in listaDeArchivos:\n",
    "        valValidos, valInvalidos = leer_archivo_excel(archivo, colTypes={\"Monto\":float})\n",
    "        if len(valInvalidos.index):\n",
    "            print(\"Se encontraron valores erroneos\")\n",
    "            valInvalidos[\"Archivo\"] = archivo\n",
    "            valInvalidos.to_sql(name=\"errores\", con=conexionDB,if_exists='append',index=False)\n",
    "        valValidos.to_sql(name=\"montos\", con=conexionDB,if_exists='append',index=False)\n",
    "    "
   ]
  },
  {
   "cell_type": "code",
   "execution_count": 22,
   "metadata": {},
   "outputs": [
    {
     "name": "stdout",
     "output_type": "stream",
     "text": [
      "Se encontraron valores erroneos\n"
     ]
    },
    {
     "data": {
      "text/plain": [
       "[('2023-03-17 00:00:00', 'Micaela Sanchez', None, 'Bancomer', 'Bancomer.xlsx')]"
      ]
     },
     "execution_count": 22,
     "metadata": {},
     "output_type": "execute_result"
    }
   ],
   "source": [
    "\n",
    "procesarArchivos([\"Banamex.xlsx\",\"Bancomer.xlsx\",\"Santander.xlsx\"])"
   ]
  },
  {
   "cell_type": "code",
   "execution_count": null,
   "metadata": {},
   "outputs": [],
   "source": []
  },
  {
   "cell_type": "code",
   "execution_count": null,
   "metadata": {},
   "outputs": [],
   "source": []
  }
 ],
 "metadata": {
  "kernelspec": {
   "display_name": "Python 3",
   "language": "python",
   "name": "python3"
  },
  "language_info": {
   "codemirror_mode": {
    "name": "ipython",
    "version": 3
   },
   "file_extension": ".py",
   "mimetype": "text/x-python",
   "name": "python",
   "nbconvert_exporter": "python",
   "pygments_lexer": "ipython3",
   "version": "3.10.7"
  },
  "orig_nbformat": 4
 },
 "nbformat": 4,
 "nbformat_minor": 2
}
