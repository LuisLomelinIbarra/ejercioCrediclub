{
 "cells": [
  {
   "cell_type": "code",
   "execution_count": 1,
   "metadata": {},
   "outputs": [],
   "source": [
    "# Importar librerías\n",
    "import sqlite3\n",
    "import pandas as pd\n"
   ]
  },
  {
   "cell_type": "code",
   "execution_count": 2,
   "metadata": {},
   "outputs": [],
   "source": [
    "# Generar base de datos\n",
    "conexionDB = sqlite3.connect(\"montosRegistrados.db\")\n"
   ]
  },
  {
   "cell_type": "code",
   "execution_count": 4,
   "metadata": {},
   "outputs": [
    {
     "data": {
      "text/plain": [
       "<sqlite3.Cursor at 0x2720472a3c0>"
      ]
     },
     "execution_count": 4,
     "metadata": {},
     "output_type": "execute_result"
    }
   ],
   "source": [
    "cursorDB = conexionDB.cursor()\n",
    "# Código para crear la primera tabla\n",
    "# Si ya se genero se puede comentar y continuar ejecutando\n",
    "\n",
    "cursorDB.execute(\"DROP TABLE montos\")\n",
    "cursorDB.execute(\"DROP TABLE errores\")\n",
    "cursorDB.execute(\"CREATE TABLE montos(fecha, cliente, monto, proveedor)\")\n",
    "cursorDB.execute(\"CREATE TABLE errores(fecha, cliente, monto, proveedor, archivo)\")\n"
   ]
  },
  {
   "cell_type": "code",
   "execution_count": 5,
   "metadata": {},
   "outputs": [],
   "source": [
    "# Leer los Exceles\n",
    "def leer_archivo_excel(nombreArchivo, colTypes=None, na_values=[\"-\"]):\n",
    "    \"\"\"\" Función que lee archivos de excel\n",
    "        Parameters:\n",
    "            nombreArchivo: El nombre del archivo a leer \n",
    "            colTypes: Un dict con los tipos de las columnas. En caso de no ser proporcionado, se asumen los tipos\n",
    "            na_values: Una lista con los valores considerados vacios\n",
    "        Returns:\n",
    "            Regresa un dataFrame con todos los renglones con valores y un dataframe con los renglones con valores faltantes\"\"\"\n",
    "    df = pd.read_excel(nombreArchivo, dtype=colTypes, na_values=na_values)\n",
    "    \n",
    "    return df.dropna(), df[df.isnull().any(axis=1)]\n"
   ]
  },
  {
   "cell_type": "code",
   "execution_count": 6,
   "metadata": {},
   "outputs": [],
   "source": [
    "def procesarArchivos(listaDeArchivos):\n",
    "    \"\"\"Procesa los archivos separando las entradas con valores validos\n",
    "        Parameters:\n",
    "        listaDeArchivos: Una lista que contiene los archivos a procesar\"\"\"\n",
    "    for archivo in listaDeArchivos:\n",
    "        valValidos, valInvalidos = leer_archivo_excel(archivo, colTypes={\"Monto\":float})\n",
    "        if len(valInvalidos.index):\n",
    "            print(\"Se encontraron valores erroneos\")\n",
    "            valInvalidos[\"Archivo\"] = archivo\n",
    "            valInvalidos.to_sql(name=\"errores\", con=conexionDB,if_exists='append',index=False)\n",
    "        valValidos.to_sql(name=\"montos\", con=conexionDB,if_exists='append',index=False)\n",
    "    "
   ]
  },
  {
   "cell_type": "code",
   "execution_count": 7,
   "metadata": {},
   "outputs": [
    {
     "name": "stdout",
     "output_type": "stream",
     "text": [
      "Se encontraron valores erroneos\n"
     ]
    }
   ],
   "source": [
    "\n",
    "procesarArchivos([\"Banamex.xlsx\",\"Bancomer.xlsx\",\"Santander.xlsx\"])"
   ]
  },
  {
   "cell_type": "code",
   "execution_count": 9,
   "metadata": {},
   "outputs": [],
   "source": [
    "import csv"
   ]
  },
  {
   "cell_type": "code",
   "execution_count": 16,
   "metadata": {},
   "outputs": [],
   "source": []
  },
  {
   "cell_type": "code",
   "execution_count": 17,
   "metadata": {},
   "outputs": [
    {
     "data": {
      "text/plain": [
       "[('2023-03-17 00:00:00', 'Luciano Hernandez', 5678.9, 'Banamex'),\n",
       " ('2023-03-17 00:00:00', 'Amanda Chavez', 9012.34, 'Banamex'),\n",
       " ('2023-03-17 00:00:00', 'Sebastian Torres', 4567.89, 'Banamex'),\n",
       " ('2023-03-17 00:00:00', 'Aurora Rodriguez', 1234.56, 'Banamex'),\n",
       " ('2023-03-17 00:00:00', 'Maximiliano Sanchez', 5678.9, 'Banamex'),\n",
       " ('2023-03-17 00:00:00', 'Bianca Martinez', 345.67, 'Banamex'),\n",
       " ('2023-03-17 00:00:00', 'Thiago Castro', 1234.56, 'Banamex'),\n",
       " ('2023-03-17 00:00:00', 'Violeta Flores', 789.01, 'Banamex'),\n",
       " ('2023-03-17 00:00:00', 'Bruno Ramirez', 2345.67, 'Banamex'),\n",
       " ('2023-03-17 00:00:00', 'Valeria Torres', 1234.56, 'Banamex'),\n",
       " ('2023-03-17 00:00:00', 'Felipe Garcia', 345.67, 'Banamex'),\n",
       " ('2023-03-17 00:00:00', 'Lucia Vargas', 789.01, 'Banamex'),\n",
       " ('2023-03-17 00:00:00', 'Tomás Jiménez', 2345.67, 'Banamex'),\n",
       " ('2023-03-17 00:00:00', 'Emilia Hernandez', 123.45, 'Banamex'),\n",
       " ('2023-03-17 00:00:00', 'Facundo Medina', 6789.01, 'Banamex'),\n",
       " ('2023-03-17 00:00:00', 'Eva López', 1234.56, 'Banamex'),\n",
       " ('2023-03-17 00:00:00', 'Dante Flores', 5678.9, 'Banamex'),\n",
       " ('2023-03-17 00:00:00', 'Emiliana Perez', 345.67, 'Banamex'),\n",
       " ('2023-03-17 00:00:00', 'Rodrigo Torres', 1234.56, 'Banamex'),\n",
       " ('2023-03-17 00:00:00', 'Carolina Ramirez', 789.01, 'Banamex'),\n",
       " ('2023-03-17 00:00:00', 'Lisandro Flores', 2345.67, 'Banamex'),\n",
       " ('2023-03-17 00:00:00', 'Martina Gomez', 6789.01, 'Banamex'),\n",
       " ('2023-03-17 00:00:00', 'Alexis Castro', 1234.56, 'Banamex'),\n",
       " ('2023-03-17 00:00:00', 'Natalia Fernandez', 5678.9, 'Banamex'),\n",
       " ('2023-03-17 00:00:00', 'Enzo Diaz', 8901.23, 'Banamex'),\n",
       " ('2023-03-17 00:00:00', 'Zoe Torres', 2345.67, 'Banamex'),\n",
       " ('2023-03-17 00:00:00', 'Gustavo Alvarez', 6789.01, 'Banamex'),\n",
       " ('2023-03-17 00:00:00', 'Sofía Flores', 1234.56, 'Banamex'),\n",
       " ('2023-03-17 00:00:00', 'Santino Ramos', 5678.9, 'Banamex'),\n",
       " ('2023-03-17 00:00:00', 'Daniela Aguilar', 9012.34, 'Banamex'),\n",
       " ('2023-03-17 00:00:00', 'Agustina Fernández', 345.67, 'Banamex'),\n",
       " ('2023-03-17 00:00:00', 'Isabella Garcia', 5678.9, 'Bancomer'),\n",
       " ('2023-03-17 00:00:00', 'Diego Hernandez', 345.67, 'Bancomer'),\n",
       " ('2023-03-17 00:00:00', 'Luciana Perez', 1234.56, 'Bancomer'),\n",
       " ('2023-03-17 00:00:00', 'Mateo Flores', 789.01, 'Bancomer'),\n",
       " ('2023-03-17 00:00:00', 'Olivia Sanchez', 2345.67, 'Bancomer'),\n",
       " ('2023-03-17 00:00:00', 'Nicolas Torres', 6789.01, 'Bancomer'),\n",
       " ('2023-03-17 00:00:00', 'Valentina Ramirez', 1234.56, 'Bancomer'),\n",
       " ('2023-03-17 00:00:00', 'Santiago Jimenez', 5678.9, 'Bancomer'),\n",
       " ('2023-03-17 00:00:00', 'Emma Chavez', 345.67, 'Bancomer'),\n",
       " ('2023-03-17 00:00:00', 'Adrian Castro', 1234.56, 'Bancomer'),\n",
       " ('2023-03-17 00:00:00', 'Emilia Vargas', 789.01, 'Bancomer'),\n",
       " ('2023-03-17 00:00:00', 'Joaquin Medina', 2345.67, 'Bancomer'),\n",
       " ('2023-03-17 00:00:00', 'Camila Rodriguez', 6789.01, 'Bancomer'),\n",
       " ('2023-03-17 00:00:00', 'Facundo Gonzalez', 1234.56, 'Bancomer'),\n",
       " ('2023-03-17 00:00:00', 'Delfina Martinez', 5678.9, 'Bancomer'),\n",
       " ('2023-03-17 00:00:00', 'Benjamin Flores', 1234.56, 'Bancomer'),\n",
       " ('2023-03-17 00:00:00', 'Candela Jimenez', 1234.56, 'Bancomer'),\n",
       " ('2023-03-17 00:00:00', 'Ezequiel Castro', 345.67, 'Bancomer'),\n",
       " ('2023-03-17 00:00:00', 'Renata Hernandez', 789.01, 'Bancomer'),\n",
       " ('2023-03-17 00:00:00', 'Gaspar Ramirez', 2345.67, 'Bancomer'),\n",
       " ('2023-03-17 00:00:00', 'Juliana Torres', 123.45, 'Bancomer'),\n",
       " ('2023-03-17 00:00:00', 'Lautaro Flores', 5678.9, 'Bancomer'),\n",
       " ('2023-03-17 00:00:00', 'Sol Rodriguez', 9012.34, 'Bancomer'),\n",
       " ('2023-03-17 00:00:00', 'Agustin Aguilar', 4567.89, 'Bancomer'),\n",
       " ('2023-03-17 00:00:00', 'Tomas Gomez', 2345.67, 'Bancomer'),\n",
       " ('2023-03-17 00:00:00', 'Constanza Ramos', 6789.01, 'Bancomer'),\n",
       " ('2023-03-17 00:00:00', 'Martin Diaz', 1234.56, 'Bancomer'),\n",
       " ('2023-03-17 00:00:00', 'Florencia Torres', 5678.9, 'Bancomer'),\n",
       " ('2023-03-17 00:00:00', 'Manuel Alvarez', 9012.34, 'Bancomer'),\n",
       " ('2023-03-17 00:00:00', 'Martina Fernandez', 345.67, 'Bancomer'),\n",
       " ('2023-03-17 00:00:00', 'Juan Perez', 1234.56, 'Santander'),\n",
       " ('2023-03-17 00:00:00', 'Ana Martinez', 345.67, 'Santander'),\n",
       " ('2023-03-17 00:00:00', 'Carlos Gutierrez', 789.01, 'Santander'),\n",
       " ('2023-03-17 00:00:00', 'Laura Lopez', 2345.67, 'Santander'),\n",
       " ('2023-03-17 00:00:00', 'Mario Gonzalez', 123.45, 'Santander'),\n",
       " ('2023-03-17 00:00:00', 'Sofia Rodriguez', 5678.9, 'Santander'),\n",
       " ('2023-03-17 00:00:00', 'Ricardo Flores', 9012.34, 'Santander'),\n",
       " ('2023-03-17 00:00:00', 'Andrea Sanchez', 4567.89, 'Santander'),\n",
       " ('2023-03-17 00:00:00', 'Daniel Jimenez', 8901.23, 'Santander'),\n",
       " ('2023-03-17 00:00:00', 'Gabriela Ramirez', 2345.67, 'Santander'),\n",
       " ('2023-03-17 00:00:00', 'Pedro Castro', 6789.01, 'Santander'),\n",
       " ('2023-03-17 00:00:00', 'Veronica Ramos', 1234.56, 'Santander'),\n",
       " ('2023-03-17 00:00:00', 'Alejandra Vargas', 5678.9, 'Santander'),\n",
       " ('2023-03-17 00:00:00', 'Eduardo Medina', 9012.34, 'Santander'),\n",
       " ('2023-03-17 00:00:00', 'Mariana Torres', 345.67, 'Santander'),\n",
       " ('2023-03-17 00:00:00', 'Luisa Chavez', 1234.56, 'Santander'),\n",
       " ('2023-03-17 00:00:00', 'Rafael Hernandez', 5678.9, 'Santander'),\n",
       " ('2023-03-17 00:00:00', 'Monica Flores', 345.67, 'Santander'),\n",
       " ('2023-03-17 00:00:00', 'Arturo Chavez', 1234.56, 'Santander'),\n",
       " ('2023-03-17 00:00:00', 'Alejandra Torres', 789.01, 'Santander'),\n",
       " ('2023-03-17 00:00:00', 'Sergio Vega', 2345.67, 'Santander'),\n",
       " ('2023-03-17 00:00:00', 'Gabriela Flores', 6789.01, 'Santander'),\n",
       " ('2023-03-17 00:00:00', 'David Gonzalez', 1234.56, 'Santander'),\n",
       " ('2023-03-17 00:00:00', 'Valeria Martinez', 5678.9, 'Santander'),\n",
       " ('2023-03-17 00:00:00', 'Luis Torres', 345.67, 'Santander'),\n",
       " ('2023-03-17 00:00:00', 'Diana Hernandez', 1234.56, 'Santander'),\n",
       " ('2023-03-17 00:00:00', 'Carlos Jimenez', 789.01, 'Santander'),\n",
       " ('2023-03-17 00:00:00', 'Natalia Ramirez', 2345.67, 'Santander'),\n",
       " ('2023-03-17 00:00:00', 'Roberto Castro', 6789.01, 'Santander'),\n",
       " ('2023-03-17 00:00:00', 'Lorena Aguilar', 1234.56, 'Santander'),\n",
       " ('2023-03-17 00:00:00', 'Eduardo Ramirez', 5678.9, 'Santander')]"
      ]
     },
     "execution_count": 17,
     "metadata": {},
     "output_type": "execute_result"
    }
   ],
   "source": [
    "query"
   ]
  },
  {
   "cell_type": "code",
   "execution_count": null,
   "metadata": {},
   "outputs": [],
   "source": []
  }
 ],
 "metadata": {
  "kernelspec": {
   "display_name": "Python 3",
   "language": "python",
   "name": "python3"
  },
  "language_info": {
   "codemirror_mode": {
    "name": "ipython",
    "version": 3
   },
   "file_extension": ".py",
   "mimetype": "text/x-python",
   "name": "python",
   "nbconvert_exporter": "python",
   "pygments_lexer": "ipython3",
   "version": "3.10.7"
  },
  "orig_nbformat": 4
 },
 "nbformat": 4,
 "nbformat_minor": 2
}
